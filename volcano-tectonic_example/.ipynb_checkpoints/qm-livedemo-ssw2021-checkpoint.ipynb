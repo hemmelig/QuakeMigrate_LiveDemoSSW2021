{
 "cells": [
  {
   "cell_type": "markdown",
   "metadata": {},
   "source": [
    "<center><img src=\"./imgs/QMlogoBig.png\" width=\"800\"/></center>\n",
    "\n",
    "# QuakeMigrate Live Demonstration for SSW 2021\n",
    "***\n",
    "<div style=\"text-align: right\">\n",
    "    <font size=\"2.5\">\n",
    "        Conor Bacon and Tom Winder - QuakeMigrate developers\n",
    "    </font>\n",
    "</div><br><br>\n",
    "<div style=\"text-align: justify\">\n",
    "    <font size=\"3\">\n",
    "        In this notebook we apply QuakeMigrate to an incredible dataset from the interior of Iceland, collected by the University of Cambridge Volcano Seismology group.<br><br>The software package is hosted on <a href=\"https://github.com/QuakeMigrate/QuakeMigrate\">GitHub</a>, with documentation on <a href=\"https://quakemigrate.readthedocs.io\">readthedocs</a>.\n",
    "    </font>\n",
    "</div>\n",
    "\n",
    "## QuakeMigrate overview\n",
    "***\n",
    "<div style=\"text-align: justify\">\n",
    "    <font size=\"3\">\n",
    "        Below is a schematic detailing the structure of the QuakeMigrate package. Data flows from left-to-right. It may appear complex at first, but we will work through this flow diagram in the example.\n",
    "    </font>\n",
    "</div>\n",
    "\n",
    "<center><img src=\"./imgs/QMFlowNoLogo1.png\"/></center>\n",
    "\n",
    "\n",
    "<div class=\"alert alert-block alert-info\"> <b>NOTE</b> You can run code cells, such as the one below, using <kbd>Shift+Enter</kbd>. While cells are running, you will see <code>In [*]</code> to the left of the cell. Once the code has finished executing, this will become (for example) <code>In [1]</code>, where the number corresponds to the order in which the cell was executed.</div>"
   ]
  },
  {
   "cell_type": "code",
   "execution_count": null,
   "metadata": {
    "code_folding": [
     0
    ]
   },
   "outputs": [],
   "source": [
    "# --- Package imports ---\n",
    "\n",
    "# Stop numpy using all available threads (these environment variables must be\n",
    "# set before numpy is imported for the first time).\n",
    "import os\n",
    "os.environ.update(OMP_NUM_THREADS=\"1\",\n",
    "                  OPENBLAS_NUM_THREADS=\"1\",\n",
    "                  NUMEXPR_NUM_THREADS=\"1\",\n",
    "                  MKL_NUM_THREADS=\"1\")\n",
    "from IPython.display import IFrame\n",
    "import pathlib\n",
    "\n",
    "from obspy import UTCDateTime, Inventory\n",
    "from obspy.clients.fdsn import Client\n",
    "from obspy.core import AttribDict\n",
    "from pyproj import Proj\n",
    "\n",
    "from quakemigrate import QuakeScan, Trigger\n",
    "from quakemigrate.io import (Archive, read_lut, read_stations,\n",
    "                             read_response_inv, read_vmodel)\n",
    "from quakemigrate.lut import compute_traveltimes\n",
    "from quakemigrate.signal.local_mag import LocalMag\n",
    "from quakemigrate.signal.onsets import STALTAOnset\n",
    "from quakemigrate.signal.pickers import GaussianPicker"
   ]
  },
  {
   "cell_type": "markdown",
   "metadata": {},
   "source": [
    "## The 2014-2015 eruption of Bárðarbunga, Iceland\n",
    "***\n",
    "\n",
    "<div style=\"text-align: justify\">\n",
    "<font size=\"3\">\n",
    "    The (SECOND!) most recent rifting event in Iceland began in the Bárðarbunga volcanic system on 16 August 2014, when a segmented, lateral dike intrusion propagated 48 km from the central volcano over 2 weeks (Ágústsdóttir et al., 2016; Sigmundsson et al., 2015), before erupting in a topographic low, reoccupying craters from the previous eruption at Holuhraun. The initial 4 hour long eruption on 29 August 2014 was followed by a major eruption which lasted 6 months, between 31 August 2014 and 27 February 2015. The Holuhraun lava flow covered 84 km2 with an estimated bulk volume of 1.4–1.6 km3, making it the largest eruption in Iceland since the 1783–1784 Laki eruption (Pedersen et al., 2017).\n",
    "</font>\n",
    "</div>\n",
    "\n",
    "<img src=\"./imgs/holuhraun_bobwhite.jpg\" width=\"600\" align=\"center\"/><br>\n",
    "<center><i>Spectacular lava fountains at Holuhraun - credit: Bob White</i></center>\n",
    "\n",
    "<div style=\"text-align: justify\">\n",
    "<font size=\"3\">\n",
    "    <br>The dike intrusion was accompanied by intense seismicity along the dike path, delineating the dike propagation. The figure below shows the location and overview of the 2014–15 Bárðarbunga–Holuhraun rifting event. Volcano-tectonic (VT) earthquakes associated with dike propagation are coloured by date (from Ágústsdóttir et al., 2016, with earliest events plotted on top); volcanoes and calderas outlined; ice cauldrons – formed by subglacial melting – marked by purple diamonds (Dyngjujökull cauldron locations from Reynolds et al., 2017; Bárðarbunga cauldron locations from Gudmundsson et al., 2016); subaerial eruption fissures marked by orange diamonds; new Holuhraun lava in dark grey.\n",
    "</font>\n",
    "</div>\n",
    "\n",
    "<img src=\"./imgs/woods2019_fig1.jpg\" align=\"center\"/><br>\n",
    "<center><i>Overview of the dike intrusion as delineated by seismicity - Figure from Woods et al., 2019</i></center>\n",
    "\n",
    "<div style=\"text-align: justify\">\n",
    "<font size=\"3\">\n",
    "    <br>We will explore this dataset using QuakeMigrate, looking at a short window of data near the end of the dike path.\n",
    "</font>\n",
    "</div>"
   ]
  },
  {
   "cell_type": "markdown",
   "metadata": {},
   "source": [
    "***\n",
    "***\n",
    "***\n",
    "## Preparation (~5 minutes)\n",
    "***\n",
    "<div style=\"text-align: justify\">\n",
    "    <font size=\"3\">\n",
    "        Before we begin using QuakeMigrate, we have to prepare the input data as shown on the left-hand side of the schematic above. Below, we define some variables that carry meta-information pertaining to the example as a whole, such as station files, run names, etc.\n",
    "    </font>\n",
    "</div>"
   ]
  },
  {
   "cell_type": "code",
   "execution_count": null,
   "metadata": {
    "code_folding": [
     0
    ]
   },
   "outputs": [],
   "source": [
    "# <--- Meta parameters --->\n",
    "# --- Define various paths ---\n",
    "station_file = \"./inputs/iceland_stations.txt\"\n",
    "archive_path = \"./inputs/mSEED\"\n",
    "lookup_table = \"./outputs/lut/dike_intrusion.LUT\"\n",
    "response_file = \"./inputs/Z7_dataless.xml\"\n",
    "\n",
    "# --- Run parameters ---\n",
    "run_path = \"./outputs/runs\"\n",
    "run_name = \"example_run\"\n",
    "\n",
    "# --- Read in station file ---\n",
    "stations = read_stations(station_file)"
   ]
  },
  {
   "cell_type": "markdown",
   "metadata": {},
   "source": [
    "### Data acquisition\n",
    "<br>\n",
    "<div style=\"text-align: justify\">\n",
    "    <font size=\"3\">\n",
    "        The data used in this example were recorded by a network of seismometers deployed and operated by the Cambridge Volcano Seismology group. This dataset was subsequently uploaded to IRIS, where it can be freely accessed using the network code Z7.<br><br>We first download 15 minutes of data from the IRIS datacentre, along with the instrument response files (which we will use later to calculate local magnitudes!). This download should take a couple of minutes to complete.\n",
    "    </font>\n",
    "</div>"
   ]
  },
  {
   "cell_type": "code",
   "execution_count": null,
   "metadata": {
    "code_folding": []
   },
   "outputs": [],
   "source": [
    "# <--- Data acquisition --->\n",
    "# --- Set network code & client ---\n",
    "network = \"Z7\"\n",
    "datacentre = \"IRIS\"\n",
    "client = Client(datacentre)\n",
    "\n",
    "# --- Set time period over which download data ---\n",
    "starttime = UTCDateTime(\"2014-236T00:00:00\")\n",
    "endtime = UTCDateTime(\"2014-236T00:15:00\")\n",
    "\n",
    "# --- Download instrument response inventory ---\n",
    "inventory = Inventory()\n",
    "for station in stations[\"Name\"]:\n",
    "    inventory += client.get_stations(network=network, station=station,\n",
    "                                     starttime=starttime, endtime=endtime,\n",
    "                                     level=\"response\")\n",
    "inventory.write(response_file, format=\"STATIONXML\")\n",
    "\n",
    "# --- Make directories to store waveform data ---\n",
    "waveform_path = pathlib.Path(archive_path) / f\"{starttime.year}/{starttime.julday:03d}\"\n",
    "waveform_path.mkdir(parents=True, exist_ok=True)\n",
    "\n",
    "# --- Download waveform data ---\n",
    "for station in stations[\"Name\"]:\n",
    "    print(f\"Downloading waveform data for station {station} from {datacentre}\")\n",
    "    stream = client.get_waveforms(network=network, station=station,\n",
    "                                  location=\"*\", channel=\"*H*\",\n",
    "                                  starttime=starttime, endtime=endtime)\n",
    "    stream.merge(method=-1)\n",
    "    for component in [\"E\", \"N\", \"Z\"]:\n",
    "        try:\n",
    "            trace = stream.select(component=component)\n",
    "            trace.write(str(waveform_path / f\"{station}_{component}.m\"),\n",
    "                        format=\"MSEED\")\n",
    "        except IndexError:\n",
    "            pass"
   ]
  },
  {
   "cell_type": "markdown",
   "metadata": {},
   "source": [
    "### Creating a traveltime lookup table\n",
    "<br>\n",
    "<div style=\"text-align: justify\">\n",
    "    <font size=\"3\">\n",
    "        In order to reduce computational costs during runtime, we pre-compute traveltime lookup tables (LUTs) for each seismic phase and each station in the network to every node in a regularised 3-D grid. This grid spans the volume of interest within which QuakeMigrate will search for events.<br><br>A complete tutorial covering everything about creating a traveltime lookup table is available on our documentation site <a href=\"https://quakemigrate.readthedocs.io/en/latest/tutorials/lut.html\">here</a>.<br><br>The figure below depicts the configuration of the lookup table volume. We must also choose a pair of coordinate reference systems to represent the input coordinate space (<code>cproj</code>) and the Cartesian grid space (<code>gproj</code>). We do this using <code>pyproj</code>, which provides the Python bindings for the <code>PROJ</code> library.\n",
    "    </font>\n",
    "</div>\n",
    "\n",
    "<img src=\"./imgs/LUT_definition.png\" align=\"center\"/><br>\n",
    "\n",
    "<div class=\"alert alert-block alert-info\"> <b>NOTE</b> In this example we use the Grid2Time Eikonal solver from NonLinLoc under the hood to generate the traveltime grids.</div>\n",
    "\n",
    "#### Parameter overview\n",
    "- `vmod` - the 1-D velocity model from which the traveltimes are generated\n",
    "- `ll_corner` and `ur_corner` - the lower-left and upper-right corners (see figure above)\n",
    "- `node_spacing` - spacing between grid nodes along each axis (x, y and z)\n",
    "- `coord_proj` and `grid_proj` - input coordinate space and the Cartesian grid space, respectively\n"
   ]
  },
  {
   "cell_type": "code",
   "execution_count": null,
   "metadata": {
    "code_folding": []
   },
   "outputs": [],
   "source": [
    "# <--- Create the traveltime lookup tables --->\n",
    "# --- Read in the velocity model file ---\n",
    "vmodel = read_vmodel(\"./inputs/iceland_vmodel.txt\")\n",
    "\n",
    "# --- Define the input and grid projections ---\n",
    "gproj = Proj(proj=\"lcc\", units=\"km\", lon_0=-16.9, lat_0=64.8, lat_1=64.7,\n",
    "             lat_2=64.9, datum=\"WGS84\", ellps=\"WGS84\", no_defs=True)\n",
    "cproj = Proj(proj=\"longlat\", datum=\"WGS84\", ellps=\"WGS84\", no_defs=True)\n",
    "\n",
    "# --- Define the grid specifications ---\n",
    "# AttribDict behaves like a Python dict, but also has '.'-style access.\n",
    "grid_spec = AttribDict()\n",
    "grid_spec.ll_corner = [-17.2, 64.7, -2.0]\n",
    "grid_spec.ur_corner = [-16.6, 64.95, 16.0]\n",
    "grid_spec.node_spacing = [0.5, 0.5, 0.5]\n",
    "grid_spec.grid_proj = gproj\n",
    "grid_spec.coord_proj = cproj\n",
    "\n",
    "# --- 1-D velocity model LUT generation (using NonLinLoc eikonal solver) ---\n",
    "lut = compute_traveltimes(grid_spec, stations, method=\"1dnlloc\", vmod=vmodel,\n",
    "                          phases=[\"P\", \"S\"], log=True, save_file=lookup_table)\n",
    "print()\n",
    "print(lut)"
   ]
  },
  {
   "cell_type": "markdown",
   "metadata": {},
   "source": [
    "***\n",
    "***\n",
    "***\n",
    "## Stage 1 - Detect (~7 minutes)\n",
    "***\n",
    "<div class=\"alert alert-block alert-warning\"> <b>NOTE</b> In the interest of time, please run the next two code blocks immediately before reviewing the text and discussion of the parameters.</div><br>\n",
    "<div style=\"text-align: justify\">\n",
    "    <font size=\"3\">\n",
    "        During this stage, the waveform data are continuously migrated into the search volume (using the travel time lookup tables we just calculated) and stacked to generate a 4-D coalescence function. We collapse this into a 1-D coalescence function by finding the maximum coalescence value in the volume at each timestep. Peaks in this function are then used during the <code>Trigger</code> stage to identify events.<br><br>The migration of the data is performed for each node and timestep in a 4-D sense and can be very computationally demanding. For this reason, it is typical to decimate the LUT to reduce the computation time. Multi-core machines or HPC clusters can also be used to split the time period and perform the computation in parallel.<br>\n",
    "    </font>\n",
    "</div>\n",
    "\n",
    "### Parameter overview\n",
    "- `starttime` and `endtime` - used to specify the time period over which to run `Detect`\n",
    "- `onset` - the onset object - see Appendix A\n",
    "- `timestep` - used to control the memory usage of the QuakeMigrate run\n",
    "- `threads` - used to control the number of threads on which to run QuakeMigrate\n",
    "\n",
    "### Relevant links\n",
    "\n",
    "<font size=\"3\">[QuakeScan](https://quakemigrate.readthedocs.io/en/latest/_modules/quakemigrate/signal/scan.html#QuakeScan) - source code for the QuakeScan class \n",
    "\n",
    "[Detect method](https://quakemigrate.readthedocs.io/en/latest/_modules/quakemigrate/signal/scan.html#QuakeScan.detect) - public method used to initiate a detect run\n",
    "</font>"
   ]
  },
  {
   "cell_type": "code",
   "execution_count": null,
   "metadata": {
    "code_folding": []
   },
   "outputs": [],
   "source": [
    "# <--- General parameters for detect --->\n",
    "# --- Set time period over which to run detect ---\n",
    "starttime = \"2014-08-24T00:01:00.0\"\n",
    "endtime = \"2014-08-24T00:11:00.0\"\n",
    "\n",
    "# --- Create new Archive and set path structure ---\n",
    "archive = Archive(archive_path=archive_path, stations=stations,\n",
    "                  archive_format=\"YEAR/JD/STATION\")\n",
    "\n",
    "# --- Load the LUT ---\n",
    "lut = read_lut(lut_file=lookup_table)\n",
    "lut.decimate([2, 2, 2], inplace=True)\n",
    "\n",
    "# --- Create new Onset function ---\n",
    "onset = STALTAOnset(position=\"classic\", sampling_rate=50)\n",
    "onset.phases = [\"P\", \"S\"]\n",
    "onset.bandpass_filters = {\n",
    "    \"P\": [2, 16, 2],\n",
    "    \"S\": [2, 16, 2]}\n",
    "onset.sta_lta_windows = {\n",
    "    \"P\": [0.2, 1.0],\n",
    "    \"S\": [0.2, 1.0]}\n",
    "\n",
    "# --- Create new QuakeScan ---\n",
    "scan = QuakeScan(archive, lut, onset=onset, run_path=run_path,\n",
    "                 run_name=run_name, log=True, loglevel=\"info\")\n",
    "\n",
    "# --- Set detect parameters ---\n",
    "scan.timestep = 300.\n",
    "scan.threads = 4  # NOTE: increase as your system allows to increase speed!"
   ]
  },
  {
   "cell_type": "markdown",
   "metadata": {},
   "source": [
    "<div class=\"alert alert-block alert-info\"> <b>NOTE</b> If running this example in the Docker environment, you might find it takes a while to run! Don't worry - QuakeMigrate is designed to run at any scale, it just isn't optimised to be run within a Docker container.</div>"
   ]
  },
  {
   "cell_type": "code",
   "execution_count": null,
   "metadata": {
    "code_folding": []
   },
   "outputs": [],
   "source": [
    "# --- Run detect ---\n",
    "scan.detect(starttime, endtime)"
   ]
  },
  {
   "cell_type": "markdown",
   "metadata": {},
   "source": [
    "***\n",
    "***\n",
    "***\n",
    "## Stage 2 - Trigger\n",
    "***\n",
    "<div style=\"text-align: justify\">\n",
    "    <font size=\"3\">\n",
    "        After completing a sweep through your waveform data using <code>detect</code>, in which a <code>scanmseed</code> object is created, we now proceed to the next stage - <code>Trigger</code>.<br><br>Candidate earthquakes are triggered from the (normalised) continuous maximum coalescence amplitude (CMCA) trace. Three pieces of information are used in the <code>Trigger</code> stage: a threshold value above which to trigger candidate earthquakes; a marginal window around the peak, used to capture the uncertainty in the origin time, in itself a function of uncertainties in the velocity model; and a minimum event interval, which must be at least twice the width of the marginal window. When the minimum event interval window of one event overlaps with the marginal window of another, the two events are consolidated, with the largest amplitude peak retained. See the figure below.\n",
    "    </font>\n",
    "</div>\n",
    "\n",
    "<img src=\"./imgs/triggerplot.png\" align=\"center\"/><br>\n",
    "\n",
    "### Parameter overview\n",
    "- `starttime` and `endtime` - used to specify the time period over which to run `Trigger`\n",
    "- `marginal_window` - half-width of window over which the 4-D coalescence function is marginalised\n",
    "- `min_event_interval` - minimum time interval between triggered events\n",
    "- `normalise_coalescence` - if True, triggering is performed on the normalised maximum coalescence trace\n",
    "- `threshold_method` - set the threshold method to use - currently either `static` or `dynamic`\n",
    "- `static_threshold` - the value above which peaks are considered candidate events\n",
    "\n",
    "### Relevant links\n",
    "\n",
    "<font size=\"3\">[Trigger](https://quakemigrate.readthedocs.io/en/latest/_modules/quakemigrate/signal/trigger.html#Trigger) - source code for the Trigger class \n",
    "\n",
    "[Trigger method](https://quakemigrate.readthedocs.io/en/latest/_modules/quakemigrate/signal/trigger.html#Trigger.trigger) - public method used to initiate a trigger run\n",
    "</font>"
   ]
  },
  {
   "cell_type": "code",
   "execution_count": null,
   "metadata": {
    "code_folding": [
     0
    ]
   },
   "outputs": [],
   "source": [
    "# --- Set time period over which to run trigger ---\n",
    "starttime = \"2014-08-24T00:01:00.0\"\n",
    "endtime = \"2014-08-24T00:11:00.0\"\n",
    "\n",
    "# --- Load the LUT ---\n",
    "lut = read_lut(lut_file=lookup_table)\n",
    "\n",
    "# --- Create new Trigger ---\n",
    "trig = Trigger(lut, run_path=run_path, run_name=run_name, log=True,\n",
    "               loglevel=\"info\")\n",
    "\n",
    "# --- Set trigger parameters ---\n",
    "# For a complete list of parameters and guidance on how to choose them, please\n",
    "# see the manual and read the docs.\n",
    "trig.marginal_window = 1.0\n",
    "trig.min_event_interval = 2.0\n",
    "trig.normalise_coalescence = True\n",
    "\n",
    "# --- Static threshold ---\n",
    "trig.threshold_method = \"static\"\n",
    "trig.static_threshold = 1.45\n",
    "\n",
    "# --- Dynamic (Median Absolute Deviation) threshold ---\n",
    "# trig.threshold_method = \"dynamic\"\n",
    "# trig.mad_window_length = 300.\n",
    "# trig.mad_multiplier = 5.\n",
    "\n",
    "# --- Toggle plotting options ---\n",
    "trig.plot_trigger_summary = True\n",
    "trig.xy_files = \"./inputs/XY_FILES/dike_xyfiles.csv\""
   ]
  },
  {
   "cell_type": "markdown",
   "metadata": {},
   "source": [
    "<div class=\"alert alert-block alert-info\"> <b>NOTE</b> Here we use the optional <code>region</code> keyword argument to specify a spatial filter for the triggered events. Only candidate events that fall within this eographic area will be retained. This is useful for removing clear artefacts; for example at the very edges of the grid.</div>"
   ]
  },
  {
   "cell_type": "code",
   "execution_count": null,
   "metadata": {
    "code_folding": []
   },
   "outputs": [],
   "source": [
    "# --- Run trigger ---\n",
    "trig.trigger(starttime, endtime, interactive_plot=False,\n",
    "             region=[-17.15, 64.72, 0.0, -16.65, 64.93, 14.0])"
   ]
  },
  {
   "cell_type": "markdown",
   "metadata": {},
   "source": [
    "<div style=\"text-align: justify\">\n",
    "    <font size=\"3\">\n",
    "        We can view a summary figure generated during the Trigger stage. These figures give a snapshot of results from Detect after applying the triggering algorithm.\n",
    "    </font>\n",
    "</div>\n",
    "\n",
    "<div class=\"alert alert-block alert-info\"> <b>NOTE</b> This may not display properly for some OS's / browsers (e.g. Safari on MacOS). If all you see is a grey box, please try opening the file directly from the JupyterLab file system browser on the left.</div>"
   ]
  },
  {
   "cell_type": "code",
   "execution_count": null,
   "metadata": {
    "scrolled": false
   },
   "outputs": [],
   "source": [
    "trigger_summary = \"./outputs/runs/example_run/trigger/summaries/example_run_2014_236_Trigger.pdf\"\n",
    "IFrame(trigger_summary, width=1000, height=550) # Plot pdf"
   ]
  },
  {
   "cell_type": "markdown",
   "metadata": {},
   "source": [
    "<div style=\"text-align: justify\">\n",
    "    <font size=\"3\">\n",
    "        On the left of the figure is a map view and 2 cross-sections showing the location of the triggered events (circles) in relation to your seismic network (triangles). The events are coloured by their peak coalescence value by the displayed colourmap. The bottom panel on the right-hand side shows the number of stations available during your chosen time window. Above this are two panels showing the normalised (middle) and non-normalised (top) coalescence functions. Your chosen detection threshold will be shown as a green line on whichever coalescence function you performed the triggering on (in this example, the normalised trace). Triggered events will be indicated by vertical lines with their accompanying marginal window and minimum event interval.\n",
    "    </font>\n",
    "</div>\n",
    "\n",
    "***\n",
    "***\n",
    "***\n",
    "## Stage 3 - Locate\n",
    "***\n",
    "<div style=\"text-align: justify\">\n",
    "    <font size=\"3\">\n",
    "        The Locate stage is very similar to Detect - however, now that we have an some a priori information on a catalogue of candidate events, we are able to re-run the migration and stacking for small, specific time windows on the high-resolution grid. We also perform uncertainty analysis on the located events, automatic phase picking, and calculating (if requested) estimates oflocal magnitudes!\n",
    "    </font>\n",
    "</div>\n",
    "\n",
    "### Parameter overview\n",
    "- `starttime` and `endtime` - used to specify the time period over which to run `Detect`\n",
    "- `onset` - the onset object - see Appendix A\n",
    "- `timestep` - used to control the memory usage of the QuakeMigrate run\n",
    "- `threads` - used to control the number of threads on which to run QuakeMigrate\n",
    "- `marginal_window` - half-width of window over which the 4-D coalescence function is marginalised\n",
    "\n",
    "### Relevant links\n",
    "\n",
    "<font size=\"3\">[QuakeScan](https://quakemigrate.readthedocs.io/en/latest/_modules/quakemigrate/signal/scan.html#QuakeScan) - source code for the QuakeScan class \n",
    "\n",
    "[Locate method](https://quakemigrate.readthedocs.io/en/latest/_modules/quakemigrate/signal/scan.html#QuakeScan.locate) - public method used to initiate a locate run\n",
    "</font>"
   ]
  },
  {
   "cell_type": "code",
   "execution_count": null,
   "metadata": {
    "code_folding": []
   },
   "outputs": [],
   "source": [
    "# --- Set time period over which to run locate ---\n",
    "starttime = \"2014-08-24T00:06:50.0\"\n",
    "endtime = \"2014-08-24T00:07:15.0\"\n",
    "\n",
    "# --- Read in response inventory ---\n",
    "response_inv = read_response_inv(response_file)\n",
    "\n",
    "# --- Specify parameters for response removal ---\n",
    "response_params = AttribDict()\n",
    "response_params.pre_filt = (0.05, 0.06, 30, 35)\n",
    "response_params.water_level = 600\n",
    "\n",
    "# --- Create new Archive and set path structure ---\n",
    "archive = Archive(archive_path=archive_path, stations=stations,\n",
    "                  archive_format=\"YEAR/JD/STATION\", response_inv=response_inv,\n",
    "                  response_removal_params=response_params)\n",
    "\n",
    "# --- Specify parameters for amplitude measurement ---\n",
    "amp_params = AttribDict()\n",
    "amp_params.signal_window = 5.0\n",
    "amp_params.highpass_filter = True\n",
    "amp_params.highpass_freq = 2.0\n",
    "\n",
    "# --- Specify parameters for magnitude calculation ---\n",
    "mag_params = AttribDict()\n",
    "mag_params.A0 = \"Greenfield2018_bardarbunga\"\n",
    "mag_params.amp_feature = \"S_amp\"\n",
    "\n",
    "mags = LocalMag(amp_params=amp_params, mag_params=mag_params,\n",
    "                plot_amplitudes=True)\n",
    "\n",
    "# --- Load the LUT ---\n",
    "lut = read_lut(lut_file=lookup_table)\n",
    "\n",
    "# --- Create new Onset ---\n",
    "onset = STALTAOnset(position=\"centred\", sampling_rate=50)\n",
    "onset.phases = [\"P\", \"S\"]\n",
    "onset.bandpass_filters = {\n",
    "    \"P\": [2, 16, 2],\n",
    "    \"S\": [2, 16, 2]}\n",
    "onset.sta_lta_windows = {\n",
    "    \"P\": [0.2, 1.0],\n",
    "    \"S\": [0.2, 1.0]}\n",
    "\n",
    "# --- Create new PhasePicker ---\n",
    "picker = GaussianPicker(onset=onset)\n",
    "picker.plot_picks = True\n",
    "\n",
    "# --- Create new QuakeScan ---\n",
    "scan = QuakeScan(archive, lut, onset=onset, picker=picker, mags=mags,\n",
    "                 run_path=run_path, run_name=run_name, log=True,\n",
    "                 loglevel=\"info\")\n",
    "\n",
    "# --- Set locate parameters ---\n",
    "# For a complete list of parameters and guidance on how to choose them, please\n",
    "# see the manual and read the docs.\n",
    "scan.marginal_window = 1.0\n",
    "scan.threads = 4  # NOTE: increase as your system allows to increase speed!\n",
    "\n",
    "# --- Toggle plotting options ---\n",
    "scan.plot_event_summary = True\n",
    "scan.xy_files = \"./inputs/XY_FILES/dike_xyfiles.csv\"\n",
    "\n",
    "# --- Toggle writing of waveforms ---\n",
    "scan.write_cut_waveforms = True"
   ]
  },
  {
   "cell_type": "markdown",
   "metadata": {},
   "source": [
    "<div class=\"alert alert-block alert-info\"> <b>NOTE</b> We have isolated a single event here - feel free to change the <code>starttime</code>/<code>endtime</code> values above to search for more events!.</div>"
   ]
  },
  {
   "cell_type": "code",
   "execution_count": null,
   "metadata": {
    "scrolled": false
   },
   "outputs": [],
   "source": [
    "# --- Run locate ---\n",
    "scan.locate(starttime=starttime, endtime=endtime)"
   ]
  },
  {
   "cell_type": "markdown",
   "metadata": {},
   "source": [
    "<div style=\"text-align: justify\">\n",
    "    <font size=\"3\">\n",
    "        We can view a summary figure generated for each event in the Locate stage.\n",
    "    </font>\n",
    "</div>\n",
    "\n",
    "<div class=\"alert alert-block alert-info\"> <b>NOTE</b> This may not display properly for some OS's / browsers (e.g. Safari on MacOS). If all you see is a grey box, please try opening the file directly from the JupyterLab file system browser on the left.</div>"
   ]
  },
  {
   "cell_type": "code",
   "execution_count": null,
   "metadata": {},
   "outputs": [],
   "source": [
    "trigger_summary = \"./outputs/runs/example_run/locate/summaries/example_run_20140824000703640_EventSummary.pdf\"\n",
    "IFrame(trigger_summary, width=1000, height=550) # Plot pdf"
   ]
  },
  {
   "cell_type": "markdown",
   "metadata": {},
   "source": [
    "\n",
    "***\n",
    "***\n",
    "***\n",
    "## Appendix A - Onset function\n",
    "***\n",
    "<div style=\"text-align: justify\">\n",
    "    <font size=\"3\">\n",
    "        The onset function can be any function that responds in some characteristic way to the arrival (onset) of a seismic phase. It is used here to simplify the seismic waveform and retain only the important information about the seismic phase onsets. Peaks in this function related to real phase arrivals have Gaussian properties (Drew et al., 2013), which allows us to treat the function as a continuous representation of the probability for the onset of a seismic phase. We find the joint probabilistic density function as the product of all the individual onsets (done internally as the sum of the log of the onsets), which tells us how likely any given point in space/time is the source of a seismic event.<br><br>We use here the function defined as the ratio between the short-term average (STA) and the long-term average (LTA) in some windows of predefined length. The figure below shows two common relative window positions. As mentioned in the Detect and Locate sections, we typically use the 'classic' setup for Detect and the 'centred' for Locate.\n",
    "    </font>\n",
    "\n",
    "<img src=\"./imgs/STALTA.png\" align=\"center\"/>\n",
    "</div>\n",
    "\n",
    "### Parameter overview\n",
    "- `position` - relative window positioning used by the STA/LTA algorithm - see figure!\n",
    "- `phases` - which phases to calculate onset functions for\n",
    "- `bandpass_filters` - Butterworth bandpass filter specification\n",
    "- `sta_lta_windows` - short-term average (STA) and Long-term average (LTA) window lengths\n",
    "- `sampling_rate` - desired sampling rate for input data\n",
    "\n",
    "***\n",
    "    \n",
    "<div style=\"text-align: justify\">\n",
    "    <font size=\"3\">\n",
    "        The Onset module has been designed as a plugin for QuakeMigrate and can be easily adapted to use other characteristic functions. We have been working on expanding the available onset functions from those based on the STA/LTA algorithm to others, such as the kurtosis function and even some based on machine learning methods.\n",
    "    </font>\n",
    "</div>"
   ]
  },
  {
   "cell_type": "markdown",
   "metadata": {},
   "source": [
    "***\n",
    "***\n",
    "***\n",
    "## References\n",
    "***\n",
    "Ágústsdóttir, T., Woods, J., Greenfield, T., Green, R.G., White, R.S., Winder, T., Brandsdóttir, B., Steinthórsson, S. and Soosalu, H., 2016. Strike‐slip faulting during the 2014 Bárðarbunga‐Holuhraun dike intrusion, central Iceland. Geophysical Research Letters, 43(4), pp.1495-1503.\n",
    "\n",
    "Drew, J., White, R.S., Tilmann, F. and Tarasewicz, J., 2013. Coalescence microseismic mapping. Geophysical Journal International, 195(3), pp.1773-1785.\n",
    "\n",
    "Reynolds, H.I., Gudmundsson, M.T., Högnadóttir, T., Magnússon, E. and Pálsson, F., 2017. Subglacial volcanic activity above a lateral dyke path during the 2014–2015 Bárdarbunga-Holuhraun rifting episode, Iceland. Bulletin of Volcanology, 79(6), pp.1-13.\n",
    "\n",
    "Pedersen, G.B.M., Höskuldsson, A., Dürig, T., Thordarson, T., Jonsdottir, I., Riishuus, M.S., Óskarsson, B.V., Dumont, S., Magnússon, E., Gudmundsson, M.T. and Sigmundsson, F., 2017. Lava field evolution and emplacement dynamics of the 2014–2015 basaltic fissure eruption at Holuhraun, Iceland. Journal of Volcanology and Geothermal Research, 340, pp.155-169.\n",
    "\n",
    "Sigmundsson, F., Hooper, A., Hreinsdóttir, S., Vogfjörd, K.S., Ófeigsson, B.G., Heimisson, E.R., Dumont, S., Parks, M., Spaans, K., Gudmundsson, G.B. and Drouin, V., 2015. Segmented lateral dyke growth in a rifting event at Bárðarbunga volcanic system, Iceland. Nature, 517(7533), pp.191-195.\n",
    "\n",
    "Woods, J., Winder, T., White, R.S. and Brandsdóttir, B., 2019. Evolution of a lateral dike intrusion revealed by relatively-relocated dike-induced earthquakes: The 2014–15 Bárðarbunga–Holuhraun rifting event, Iceland. Earth and Planetary Science Letters, 506, pp.53-63.\n",
    "\n",
    "The QuakeMigrate software is also citable directly at:\n",
    "\n",
    "Tom Winder, Conor Bacon, Jonathan D. Smith, Thomas S. Hudson, Julian Drew, & Robert S. White. (2021, January 15). QuakeMigrate v1.0.0 (Version v1.0.0). Zenodo. http://doi.org/10.5281/zenodo.4442749\n",
    "\n",
    "A publication is in the works!\n",
    "\n",
    "***\n",
    "***\n",
    "***\n",
    "## Acknowledgements\n",
    "***\n",
    "<div style=\"text-align: justify\">\n",
    "    <font size=\"3\">\n",
    "        Finally, we would like to acknowledge everyone involved with QuakeMigrate - from the developers to all of the users that have provided incredibly helpful feedback!\n",
    "    </font>\n",
    "</div><br><br>\n",
    "\n",
    "\n",
    "<div style=\"text-align: right\">\n",
    "    <font size=\"2.5\">\n",
    "        Conor Bacon and Tom Winder - QuakeMigrate developers\n",
    "    </font>\n",
    "</div>"
   ]
  }
 ],
 "metadata": {
  "kernelspec": {
   "display_name": "Python 3",
   "language": "python",
   "name": "python3"
  },
  "language_info": {
   "codemirror_mode": {
    "name": "ipython",
    "version": 3
   },
   "file_extension": ".py",
   "mimetype": "text/x-python",
   "name": "python",
   "nbconvert_exporter": "python",
   "pygments_lexer": "ipython3",
   "version": "3.7.8"
  },
  "toc": {
   "base_numbering": 1,
   "nav_menu": {},
   "number_sections": true,
   "sideBar": true,
   "skip_h1_title": false,
   "title_cell": "Table of Contents",
   "title_sidebar": "Contents",
   "toc_cell": false,
   "toc_position": {},
   "toc_section_display": true,
   "toc_window_display": false
  }
 },
 "nbformat": 4,
 "nbformat_minor": 4
}
